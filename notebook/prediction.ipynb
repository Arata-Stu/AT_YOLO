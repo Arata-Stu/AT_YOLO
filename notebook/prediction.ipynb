{
 "cells": [
  {
   "cell_type": "code",
   "execution_count": 1,
   "metadata": {},
   "outputs": [],
   "source": [
    "import yaml\n",
    "import numpy as np\n",
    "from omegaconf import OmegaConf\n",
    "from yolo.module.model_module import ModelModule\n",
    "from yolo.module.data_module import DataModule\n",
    "\n",
    "import pytorch_lightning as pl\n",
    "from pytorch_lightning.callbacks import ModelCheckpoint\n",
    "from pytorch_lightning import loggers as pl_loggers\n",
    "\n",
    "from yolo.module.model.yolox.utils.boxes import postprocess\n",
    "from yolo.utils.eval.evaluation import to_coco_format, evaluation"
   ]
  },
  {
   "cell_type": "markdown",
   "metadata": {},
   "source": [
    "## データ、モデルの用意"
   ]
  },
  {
   "cell_type": "code",
   "execution_count": 2,
   "metadata": {},
   "outputs": [],
   "source": [
    "yaml_file = \"./../config/notebook.yaml\"\n",
    "with open(yaml_file, 'r') as file:\n",
    "    config = yaml.safe_load(file)\n",
    "config = OmegaConf.create(config)\n",
    "\n",
    "data = DataModule(config)\n",
    "model = ModelModule(config)"
   ]
  },
  {
   "cell_type": "code",
   "execution_count": null,
   "metadata": {},
   "outputs": [],
   "source": [
    "data.setup('fit')"
   ]
  },
  {
   "cell_type": "code",
   "execution_count": 4,
   "metadata": {},
   "outputs": [],
   "source": [
    "train_dataset = data.train_dataset\n",
    "val_dataset = data.valid_dataset"
   ]
  },
  {
   "cell_type": "code",
   "execution_count": 5,
   "metadata": {},
   "outputs": [],
   "source": [
    "import matplotlib.pyplot as plt\n",
    "import matplotlib.patches as patches\n",
    "from yolo.module.data.dataset.dsec.label import CLASSES\n",
    "\n",
    "def plot_image_with_bboxes(image, bboxes, labels):\n",
    "    fig, ax = plt.subplots(1)\n",
    "    # 画像を表示\n",
    "    ax.imshow(image)\n",
    "    \n",
    "    # バウンディングボックスを描画\n",
    "    for bbox, label in zip(bboxes, labels):\n",
    "        # バウンディングボックスの情報を取得 (cx, cy, w, h)\n",
    "        cx, cy, w, h = bbox\n",
    "        # 左上の座標に変換 (x_min, y_min)\n",
    "        x_min = cx - w / 2\n",
    "        y_min = cy - h / 2\n",
    "        # 四角形を描画\n",
    "        rect = patches.Rectangle((x_min, y_min), w, h, linewidth=2, edgecolor='r', facecolor='none')\n",
    "        ax.add_patch(rect)\n",
    "        # クラスラベルを表示\n",
    "        class_name = CLASSES[int(label)]\n",
    "        ax.text(x_min, y_min, class_name, color='white', fontsize=12, backgroundcolor='red')\n",
    "\n",
    "    plt.axis('off')\n",
    "    plt.show()\n"
   ]
  },
  {
   "cell_type": "markdown",
   "metadata": {},
   "source": [
    "## trainデータセットのplot"
   ]
  },
  {
   "cell_type": "code",
   "execution_count": 6,
   "metadata": {},
   "outputs": [],
   "source": [
    "index = 0\n",
    "train_img, train_label, train_info, train_id = train_dataset[index]"
   ]
  },
  {
   "cell_type": "code",
   "execution_count": null,
   "metadata": {},
   "outputs": [],
   "source": [
    "## 正解label\n",
    "image = np.transpose(train_img, (1, 2, 0))\n",
    "labels = train_label[:, 0]\n",
    "bboxes = train_label[:, 1:]\n",
    "\n",
    "plot_image_with_bboxes(image, bboxes=bboxes, labels=labels)"
   ]
  },
  {
   "cell_type": "markdown",
   "metadata": {},
   "source": [
    "## val データセットのplot"
   ]
  },
  {
   "cell_type": "code",
   "execution_count": 11,
   "metadata": {},
   "outputs": [],
   "source": [
    "index = 200\n",
    "val_img, val_label, val_info, val_id = val_dataset[index]"
   ]
  },
  {
   "cell_type": "code",
   "execution_count": null,
   "metadata": {},
   "outputs": [],
   "source": [
    "## 正解label\n",
    "image = np.transpose(val_img, (1, 2, 0))\n",
    "labels = val_label[:, 4]\n",
    "bboxes = val_label[:, 0:4]\n",
    "x1 = val_label[:, 0]\n",
    "y1 = val_label[:, 1]\n",
    "x2 = val_label[:, 2]\n",
    "y2 = val_label[:, 3]\n",
    "\n",
    "# center_x, center_yを計算\n",
    "center_x = (x1 + x2) / 2\n",
    "center_y = (y1 + y2) / 2\n",
    "\n",
    "# w, hを計算\n",
    "w = x2 - x1\n",
    "h = y2 - y1\n",
    "\n",
    "# 新しい形に変換\n",
    "bboxes = np.stack([center_x, center_y, w, h], axis=1)\n",
    "plot_image_with_bboxes(image, bboxes=bboxes, labels=labels)"
   ]
  },
  {
   "cell_type": "code",
   "execution_count": null,
   "metadata": {},
   "outputs": [],
   "source": [
    "import torch\n",
    "output_postprocessed = [torch.tensor([[294., 203., 367., 263, 0.9 , 0.9,   2.],\n",
    "                                      [251., 206., 266., 219., 0.9, 0.9, 2.],\n",
    "                                      [175., 180., 245., 249., 0.9, 0.9, 2 ]])]\n",
    "\n",
    "if config.dataset.name == \"coco\":\n",
    "    from yolo.module.data.dataset.coco.coco_classes import COCO_CLASSES as CLASSES\n",
    "elif config.dataset.name == \"dsec\":\n",
    "    from yolo.module.data.dataset.dsec.label import CLASSES\n",
    "            \n",
    "classes = CLASSES\n",
    "categories = [{\"id\": idx + 1, \"name\": name} for idx, name in enumerate(classes)]\n",
    "\n",
    "tensor_label = torch.from_numpy(val_label)\n",
    "tensor_label = tensor_label.unsqueeze(0)\n",
    "num_data = len(tensor_label)\n",
    "gt, pred = to_coco_format(gts=tensor_label, detections=output_postprocessed, categories=categories, height=640, width=640)\n",
    "\n",
    "# COCO evaluationでスコアを取得\n",
    "scores = evaluation(Gt=gt, Dt=pred, num_data=num_data)\n"
   ]
  },
  {
   "cell_type": "code",
   "execution_count": null,
   "metadata": {},
   "outputs": [],
   "source": [
    "scores"
   ]
  },
  {
   "cell_type": "code",
   "execution_count": null,
   "metadata": {},
   "outputs": [],
   "source": [
    "# preds = model(img, None)\n",
    "# processed_pred = postprocess(prediction=preds,\n",
    "#                             num_classes=config.model.head.num_classes,\n",
    "#                             conf_thre=config.model.postprocess.conf_thre,\n",
    "#                             nms_thre=config.model.postprocess.nms_thre)\n",
    "\n",
    "# if config.dataset.name == \"coco\":\n",
    "#     from ..yolo.module.data.dataset.coco.coco_classes import COCO_CLASSES as CLASSES\n",
    "# elif config.dataset.name == \"dsec\":\n",
    "#     from ..yolo.module.data.dataset.dsec.label import CLASSES\n",
    "            \n",
    "# classes = CLASSES\n",
    "# categories = [{\"id\": idx + 1, \"name\": name} for idx, name in enumerate(classes)]\n",
    "# num_data = len(label)\n",
    "# gt, pred = to_coco_format(gts=label, detections=processed_pred, categories=categories, height=640, width=640)\n",
    "\n",
    "# # COCO evaluationでスコアを取得\n",
    "# scores = evaluation(Gt=gt, Dt=pred, num_data=num_data)\n"
   ]
  },
  {
   "cell_type": "code",
   "execution_count": null,
   "metadata": {},
   "outputs": [],
   "source": []
  }
 ],
 "metadata": {
  "kernelspec": {
   "display_name": "YOLO_ENV",
   "language": "python",
   "name": "python3"
  },
  "language_info": {
   "codemirror_mode": {
    "name": "ipython",
    "version": 3
   },
   "file_extension": ".py",
   "mimetype": "text/x-python",
   "name": "python",
   "nbconvert_exporter": "python",
   "pygments_lexer": "ipython3",
   "version": "3.9.19"
  }
 },
 "nbformat": 4,
 "nbformat_minor": 2
}
