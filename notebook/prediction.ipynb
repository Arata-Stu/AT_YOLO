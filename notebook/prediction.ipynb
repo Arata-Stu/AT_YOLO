{
 "cells": [
  {
   "cell_type": "code",
   "execution_count": 1,
   "metadata": {},
   "outputs": [],
   "source": [
    "import yaml\n",
    "from omegaconf import OmegaConf\n",
    "from yolo.module.model_module import ModelModule\n",
    "from yolo.module.data_module import DataModule\n",
    "\n",
    "import pytorch_lightning as pl\n",
    "from pytorch_lightning.callbacks import ModelCheckpoint\n",
    "from pytorch_lightning import loggers as pl_loggers\n",
    "\n",
    "from yolo.module.model.yolox.utils.boxes import postprocess\n",
    "from yolo.utils.eval.evaluation import to_coco_format, evaluation"
   ]
  },
  {
   "cell_type": "markdown",
   "metadata": {},
   "source": [
    "## データ、モデルの用意"
   ]
  },
  {
   "cell_type": "code",
   "execution_count": 5,
   "metadata": {},
   "outputs": [],
   "source": [
    "yaml_file = \"./../config/notebook.yaml\"\n",
    "with open(yaml_file, 'r') as file:\n",
    "    config = yaml.safe_load(file)\n",
    "config = OmegaConf.create(config)\n",
    "\n",
    "data = DataModule(config)\n",
    "model = ModelModule(config)"
   ]
  },
  {
   "cell_type": "code",
   "execution_count": null,
   "metadata": {},
   "outputs": [],
   "source": [
    "model.model.eval()"
   ]
  },
  {
   "cell_type": "code",
   "execution_count": null,
   "metadata": {},
   "outputs": [],
   "source": [
    "train_dataset = data.train_dataset\n",
    "val_dataset = data.valid_dataset"
   ]
  },
  {
   "cell_type": "code",
   "execution_count": null,
   "metadata": {},
   "outputs": [],
   "source": [
    "index = 0\n",
    "img, label, info, id = train_dataset[index]"
   ]
  },
  {
   "cell_type": "code",
   "execution_count": null,
   "metadata": {},
   "outputs": [],
   "source": [
    "preds = model(img, None)\n",
    "processed_pred = postprocess(prediction=preds,\n",
    "                            num_classes=config.model.head.num_classes,\n",
    "                            conf_thre=config.model.postprocess.conf_thre,\n",
    "                            nms_thre=config.model.postprocess.nms_thre)\n",
    "\n",
    "if config.dataset.name == \"coco\":\n",
    "    from ..yolo.module.data.dataset.coco.coco_classes import COCO_CLASSES as CLASSES\n",
    "elif config.dataset.name == \"dsec\":\n",
    "    from ..yolo.module.data.dataset.dsec.label import CLASSES\n",
    "            \n",
    "classes = CLASSES\n",
    "categories = [{\"id\": idx + 1, \"name\": name} for idx, name in enumerate(classes)]\n",
    "num_data = len(label)\n",
    "gt, pred = to_coco_format(gts=label, detections=processed_pred, categories=categories, height=640, width=640)\n",
    "\n",
    "# COCO evaluationでスコアを取得\n",
    "scores = evaluation(Gt=gt, Dt=pred, num_data=num_data)\n"
   ]
  },
  {
   "cell_type": "code",
   "execution_count": null,
   "metadata": {},
   "outputs": [],
   "source": []
  }
 ],
 "metadata": {
  "kernelspec": {
   "display_name": "YOLO_ENV",
   "language": "python",
   "name": "python3"
  },
  "language_info": {
   "codemirror_mode": {
    "name": "ipython",
    "version": 3
   },
   "file_extension": ".py",
   "mimetype": "text/x-python",
   "name": "python",
   "nbconvert_exporter": "python",
   "pygments_lexer": "ipython3",
   "version": "3.9.19"
  }
 },
 "nbformat": 4,
 "nbformat_minor": 2
}
